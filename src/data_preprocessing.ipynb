{
 "cells": [
  {
   "cell_type": "code",
   "execution_count": 1,
   "metadata": {},
   "outputs": [],
   "source": [
    "import pandas as pd\n",
    "pd.set_option('display.max_columns', 500)\n",
    "pd.set_option('display.max_rows', 500)"
   ]
  },
  {
   "cell_type": "markdown",
   "metadata": {},
   "source": [
    "## Our role: \n",
    "\n",
    "Consultant for \"Delta Air Lines Inc.\" \n",
    "We want to:\n",
    "- Predict if a flight will be delayed or not at arrival\n",
    "- Predict the delay time of a flight at arrival\n",
    "- Find the most important possible recurrent reasons of delay\n",
    "\n",
    "## inportant information\n",
    "\n",
    "- target variables: Cancelled (classification) and ArrDelayMinutes (regression)\n",
    "\n",
    "## To Do\n",
    "\n",
    "\n",
    "- ArrDelay: Compute the mean/median for each specific trip. Make sure that we have enough data points. \n",
    "- Drop the \"Cancelled\" rows\n",
    "\n",
    "- Average delay per airline per flight per trip ---> score. Instead of Airline Name: avg airline delay in one column --> continuous variable.  If missing data --> 0.\n",
    "- Check the different values Marketing_Airline_Network. PA1? PA2?\n",
    "- Tail Number - One Aircraft. Compute the average delay of each particular aircraft. Instead of having the tail number, we have the average delay per \"distances\" of that aircraft.\n",
    "- FlightNumber: Compute the average delay per flight number.\n",
    "- OriginAirportID: Compute the average delay per airport.\n",
    "\n",
    "\n",
    "## Backup Ideas:\n",
    "- airtime: compute the average for each trip?\n",
    "\n"
   ]
  },
  {
   "cell_type": "code",
   "execution_count": 2,
   "metadata": {},
   "outputs": [],
   "source": [
    "df = pd.read_csv(\"../data/delta_combined_flights_2018_2022.csv\")"
   ]
  },
  {
   "cell_type": "code",
   "execution_count": 3,
   "metadata": {},
   "outputs": [
    {
     "data": {
      "text/html": [
       "<div>\n",
       "<style scoped>\n",
       "    .dataframe tbody tr th:only-of-type {\n",
       "        vertical-align: middle;\n",
       "    }\n",
       "\n",
       "    .dataframe tbody tr th {\n",
       "        vertical-align: top;\n",
       "    }\n",
       "\n",
       "    .dataframe thead th {\n",
       "        text-align: right;\n",
       "    }\n",
       "</style>\n",
       "<table border=\"1\" class=\"dataframe\">\n",
       "  <thead>\n",
       "    <tr style=\"text-align: right;\">\n",
       "      <th></th>\n",
       "      <th>FlightDate</th>\n",
       "      <th>Airline</th>\n",
       "      <th>Origin</th>\n",
       "      <th>Dest</th>\n",
       "      <th>DepTime</th>\n",
       "      <th>DepDelayMinutes</th>\n",
       "      <th>DepDelay</th>\n",
       "      <th>ArrDelayMinutes</th>\n",
       "      <th>AirTime</th>\n",
       "      <th>Distance</th>\n",
       "      <th>CRSElapsedTime</th>\n",
       "      <th>DayOfWeek</th>\n",
       "      <th>Year</th>\n",
       "      <th>Month</th>\n",
       "      <th>Tail_Number</th>\n",
       "      <th>Flight_Number_Operating_Airline</th>\n",
       "      <th>OriginAirportID</th>\n",
       "      <th>DestAirportID</th>\n",
       "      <th>DepDel15</th>\n",
       "      <th>DepartureDelayGroups</th>\n",
       "      <th>TaxiOut</th>\n",
       "      <th>CRSArrTime</th>\n",
       "      <th>ArrDelay</th>\n",
       "      <th>DistanceGroup</th>\n",
       "    </tr>\n",
       "  </thead>\n",
       "  <tbody>\n",
       "    <tr>\n",
       "      <th>0</th>\n",
       "      <td>2018-01-27</td>\n",
       "      <td>Delta Air Lines Inc.</td>\n",
       "      <td>ATL</td>\n",
       "      <td>ORF</td>\n",
       "      <td>1606.0</td>\n",
       "      <td>0.0</td>\n",
       "      <td>-2.0</td>\n",
       "      <td>0.0</td>\n",
       "      <td>73.0</td>\n",
       "      <td>516.0</td>\n",
       "      <td>95.0</td>\n",
       "      <td>6</td>\n",
       "      <td>2018</td>\n",
       "      <td>1</td>\n",
       "      <td>N923DL</td>\n",
       "      <td>1378</td>\n",
       "      <td>10397</td>\n",
       "      <td>13931</td>\n",
       "      <td>0.0</td>\n",
       "      <td>-1.0</td>\n",
       "      <td>8.0</td>\n",
       "      <td>1743</td>\n",
       "      <td>-13.0</td>\n",
       "      <td>3</td>\n",
       "    </tr>\n",
       "    <tr>\n",
       "      <th>1</th>\n",
       "      <td>2018-01-27</td>\n",
       "      <td>Delta Air Lines Inc.</td>\n",
       "      <td>ATL</td>\n",
       "      <td>GSO</td>\n",
       "      <td>1656.0</td>\n",
       "      <td>0.0</td>\n",
       "      <td>-4.0</td>\n",
       "      <td>0.0</td>\n",
       "      <td>48.0</td>\n",
       "      <td>306.0</td>\n",
       "      <td>75.0</td>\n",
       "      <td>6</td>\n",
       "      <td>2018</td>\n",
       "      <td>1</td>\n",
       "      <td>N912DE</td>\n",
       "      <td>1380</td>\n",
       "      <td>10397</td>\n",
       "      <td>11995</td>\n",
       "      <td>0.0</td>\n",
       "      <td>-1.0</td>\n",
       "      <td>10.0</td>\n",
       "      <td>1815</td>\n",
       "      <td>-18.0</td>\n",
       "      <td>2</td>\n",
       "    </tr>\n",
       "    <tr>\n",
       "      <th>2</th>\n",
       "      <td>2018-01-27</td>\n",
       "      <td>Delta Air Lines Inc.</td>\n",
       "      <td>TPA</td>\n",
       "      <td>MSP</td>\n",
       "      <td>716.0</td>\n",
       "      <td>0.0</td>\n",
       "      <td>-4.0</td>\n",
       "      <td>0.0</td>\n",
       "      <td>173.0</td>\n",
       "      <td>1306.0</td>\n",
       "      <td>207.0</td>\n",
       "      <td>6</td>\n",
       "      <td>2018</td>\n",
       "      <td>1</td>\n",
       "      <td>N699DL</td>\n",
       "      <td>1381</td>\n",
       "      <td>15304</td>\n",
       "      <td>13487</td>\n",
       "      <td>0.0</td>\n",
       "      <td>-1.0</td>\n",
       "      <td>15.0</td>\n",
       "      <td>947</td>\n",
       "      <td>-19.0</td>\n",
       "      <td>6</td>\n",
       "    </tr>\n",
       "    <tr>\n",
       "      <th>3</th>\n",
       "      <td>2018-01-27</td>\n",
       "      <td>Delta Air Lines Inc.</td>\n",
       "      <td>LIH</td>\n",
       "      <td>LAX</td>\n",
       "      <td>2219.0</td>\n",
       "      <td>0.0</td>\n",
       "      <td>-6.0</td>\n",
       "      <td>7.0</td>\n",
       "      <td>311.0</td>\n",
       "      <td>2615.0</td>\n",
       "      <td>319.0</td>\n",
       "      <td>6</td>\n",
       "      <td>2018</td>\n",
       "      <td>1</td>\n",
       "      <td>N544US</td>\n",
       "      <td>1382</td>\n",
       "      <td>12982</td>\n",
       "      <td>12892</td>\n",
       "      <td>0.0</td>\n",
       "      <td>-1.0</td>\n",
       "      <td>17.0</td>\n",
       "      <td>544</td>\n",
       "      <td>7.0</td>\n",
       "      <td>11</td>\n",
       "    </tr>\n",
       "    <tr>\n",
       "      <th>4</th>\n",
       "      <td>2018-01-27</td>\n",
       "      <td>Delta Air Lines Inc.</td>\n",
       "      <td>SMF</td>\n",
       "      <td>SLC</td>\n",
       "      <td>553.0</td>\n",
       "      <td>0.0</td>\n",
       "      <td>-7.0</td>\n",
       "      <td>0.0</td>\n",
       "      <td>73.0</td>\n",
       "      <td>532.0</td>\n",
       "      <td>103.0</td>\n",
       "      <td>6</td>\n",
       "      <td>2018</td>\n",
       "      <td>1</td>\n",
       "      <td>N3766</td>\n",
       "      <td>1384</td>\n",
       "      <td>14893</td>\n",
       "      <td>14869</td>\n",
       "      <td>0.0</td>\n",
       "      <td>-1.0</td>\n",
       "      <td>12.0</td>\n",
       "      <td>843</td>\n",
       "      <td>-19.0</td>\n",
       "      <td>3</td>\n",
       "    </tr>\n",
       "  </tbody>\n",
       "</table>\n",
       "</div>"
      ],
      "text/plain": [
       "   FlightDate               Airline Origin Dest  DepTime  DepDelayMinutes  \\\n",
       "0  2018-01-27  Delta Air Lines Inc.    ATL  ORF   1606.0              0.0   \n",
       "1  2018-01-27  Delta Air Lines Inc.    ATL  GSO   1656.0              0.0   \n",
       "2  2018-01-27  Delta Air Lines Inc.    TPA  MSP    716.0              0.0   \n",
       "3  2018-01-27  Delta Air Lines Inc.    LIH  LAX   2219.0              0.0   \n",
       "4  2018-01-27  Delta Air Lines Inc.    SMF  SLC    553.0              0.0   \n",
       "\n",
       "   DepDelay  ArrDelayMinutes  AirTime  Distance  CRSElapsedTime  DayOfWeek  \\\n",
       "0      -2.0              0.0     73.0     516.0            95.0          6   \n",
       "1      -4.0              0.0     48.0     306.0            75.0          6   \n",
       "2      -4.0              0.0    173.0    1306.0           207.0          6   \n",
       "3      -6.0              7.0    311.0    2615.0           319.0          6   \n",
       "4      -7.0              0.0     73.0     532.0           103.0          6   \n",
       "\n",
       "   Year  Month Tail_Number  Flight_Number_Operating_Airline  OriginAirportID  \\\n",
       "0  2018      1      N923DL                             1378            10397   \n",
       "1  2018      1      N912DE                             1380            10397   \n",
       "2  2018      1      N699DL                             1381            15304   \n",
       "3  2018      1      N544US                             1382            12982   \n",
       "4  2018      1       N3766                             1384            14893   \n",
       "\n",
       "   DestAirportID  DepDel15  DepartureDelayGroups  TaxiOut  CRSArrTime  \\\n",
       "0          13931       0.0                  -1.0      8.0        1743   \n",
       "1          11995       0.0                  -1.0     10.0        1815   \n",
       "2          13487       0.0                  -1.0     15.0         947   \n",
       "3          12892       0.0                  -1.0     17.0         544   \n",
       "4          14869       0.0                  -1.0     12.0         843   \n",
       "\n",
       "   ArrDelay  DistanceGroup  \n",
       "0     -13.0              3  \n",
       "1     -18.0              2  \n",
       "2     -19.0              6  \n",
       "3       7.0             11  \n",
       "4     -19.0              3  "
      ]
     },
     "execution_count": 3,
     "metadata": {},
     "output_type": "execute_result"
    }
   ],
   "source": [
    "df.head()\n",
    "\n",
    "# create a categorical variable saying whetere a flight is delayed or not\n",
    "df['Delayed'] = df['ArrDelay'] > 0\n",
    "\n",
    "# Compute the average delay for each year, for each "
   ]
  },
  {
   "cell_type": "code",
   "execution_count": null,
   "metadata": {},
   "outputs": [],
   "source": [
    "### 1. Compute the average delay for each year, for specific trip.\n",
    "\n",
    "First, check if most trips have enough flights. We see here that only"
   ]
  },
  {
   "cell_type": "code",
   "execution_count": 6,
   "metadata": {},
   "outputs": [
    {
     "data": {
      "text/plain": [
       "<AxesSubplot: >"
      ]
     },
     "execution_count": 6,
     "metadata": {},
     "output_type": "execute_result"
    },
    {
     "data": {
      "image/png": "[encoded data removed]",
      "text/plain": [
       "<Figure size 640x480 with 1 Axes>"
      ]
     },
     "metadata": {},
     "output_type": "display_data"
    }
   ],
   "source": [
    "df[\"Flight_Number_Operating_Airline\"].hist(bins=100)"
   ]
  },
  {
   "cell_type": "code",
   "execution_count": 11,
   "metadata": {},
   "outputs": [
    {
     "data": {
      "text/plain": [
       "1528"
      ]
     },
     "execution_count": 11,
     "metadata": {},
     "output_type": "execute_result"
    }
   ],
   "source": [
    "len(df[df[\"Flight_Number_Operating_Airline\"] < 25])"
   ]
  },
  {
   "cell_type": "code",
   "execution_count": 12,
   "metadata": {},
   "outputs": [
    {
     "data": {
      "text/plain": [
       "0.0004712936517238614"
      ]
     },
     "execution_count": 12,
     "metadata": {},
     "output_type": "execute_result"
    }
   ],
   "source": [
    "(1528 / len(df) )"
   ]
  },
  {
   "cell_type": "code",
   "execution_count": null,
   "metadata": {},
   "outputs": [],
   "source": []
  }
 ],
 "metadata": {
  "kernelspec": {
   "display_name": "Python 3.10.6 64-bit",
   "language": "python",
   "name": "python3"
  },
  "language_info": {
   "codemirror_mode": {
    "name": "ipython",
    "version": 3
   },
   "file_extension": ".py",
   "mimetype": "text/x-python",
   "name": "python",
   "nbconvert_exporter": "python",
   "pygments_lexer": "ipython3",
   "version": "3.10.6"
  },
  "orig_nbformat": 4,
  "vscode": {
   "interpreter": {
    "hash": "aee8b7b246df8f9039afb4144a1f6fd8d2ca17a180786b69acc140d282b71a49"
   }
  }
 },
 "nbformat": 4,
 "nbformat_minor": 2
}
